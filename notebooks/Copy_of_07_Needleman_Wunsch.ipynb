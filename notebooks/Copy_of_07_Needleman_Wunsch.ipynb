{
  "nbformat": 4,
  "nbformat_minor": 2,
  "metadata": {
    "colab": {
      "name": "Copy of 07 - Needleman-Wunsch.ipynb",
      "provenance": [],
      "collapsed_sections": []
    },
    "kernelspec": {
      "name": "python3",
      "display_name": "Python 3.9.6 64-bit ('bio-355-env': conda)"
    },
    "language_info": {
      "name": "python",
      "version": "3.9.6",
      "mimetype": "text/x-python",
      "codemirror_mode": {
        "name": "ipython",
        "version": 3
      },
      "pygments_lexer": "ipython3",
      "nbconvert_exporter": "python",
      "file_extension": ".py"
    },
    "interpreter": {
      "hash": "7dc8fcfcc2ea9d73dc219e193979e59a0d0e18a35d691a1babbdc9f470111333"
    }
  },
  "cells": [
    {
      "cell_type": "markdown",
      "source": [
        "# Lecture 07: Needleman-Wunsch algorithm"
      ],
      "metadata": {
        "id": "Futl2q6cgfX4"
      }
    },
    {
      "cell_type": "markdown",
      "source": [
        "Lecture Notes authored by Prof. Zhu"
      ],
      "metadata": {}
    },
    {
      "cell_type": "code",
      "execution_count": 58,
      "source": [
        " import pandas as pd"
      ],
      "outputs": [],
      "metadata": {}
    },
    {
      "cell_type": "markdown",
      "source": [
        "## Scoring scheme"
      ],
      "metadata": {
        "id": "NpYl9rMcvTSt"
      }
    },
    {
      "cell_type": "markdown",
      "source": [
        "Specify a scoring system.\n",
        "\n",
        "- The structure `(a, b, c...)` is a **tuple**. It is like a list, except that once created, its content cannot be modified."
      ],
      "metadata": {
        "id": "qrWoDJvK8Hy4"
      }
    },
    {
      "cell_type": "code",
      "execution_count": 59,
      "source": [
        "ss = (1, 0, -1)  # match, mismatch, gap"
      ],
      "outputs": [],
      "metadata": {
        "id": "h9Sg_XNpXNSJ"
      }
    },
    {
      "cell_type": "markdown",
      "source": [
        "One can access tuple elements using their indices, just like one would do with a list or a string."
      ],
      "metadata": {
        "id": "1sAvVhyR8c1b"
      }
    },
    {
      "cell_type": "code",
      "execution_count": 60,
      "source": [
        "ss[0], ss[1], ss[2]"
      ],
      "outputs": [
        {
          "output_type": "execute_result",
          "data": {
            "text/plain": [
              "(1, 0, -1)"
            ]
          },
          "metadata": {},
          "execution_count": 60
        }
      ],
      "metadata": {
        "colab": {
          "base_uri": "https://localhost:8080/"
        },
        "id": "4MAvPufV1z_w",
        "outputId": "0b41eb8a-6128-4c15-db15-e80504900055"
      }
    },
    {
      "cell_type": "markdown",
      "source": [
        "These are the input sequences. Now we want to align them using the Needleman-Wunsch algorithm according to the scoring system."
      ],
      "metadata": {
        "id": "fGr81tWr8ql8"
      }
    },
    {
      "cell_type": "code",
      "execution_count": 61,
      "source": [
        "seq1 = 'ACGCGT'\n",
        "seq2 = 'ATCGCA'"
      ],
      "outputs": [],
      "metadata": {
        "id": "SuXK861c-lde"
      }
    },
    {
      "cell_type": "markdown",
      "source": [
        "Determine the dimensions of the nxm matrices.\n",
        "\n",
        "- Seq 1: `n` (rows)\n",
        "- Seq 2: `m` (columns)"
      ],
      "metadata": {
        "id": "uOt1tUcDKcBi"
      }
    },
    {
      "cell_type": "code",
      "execution_count": 62,
      "source": [
        "n = len(seq1)\n",
        "m = len(seq2)"
      ],
      "outputs": [],
      "metadata": {
        "id": "i2-PLsqCXNLv"
      }
    },
    {
      "cell_type": "markdown",
      "source": [
        "## Two-dimensional matrix"
      ],
      "metadata": {
        "id": "MxfR17eY93Re"
      }
    },
    {
      "cell_type": "markdown",
      "source": [
        "A two-dimensional matrix can be generated using a nested list. The following example creates a matrix of 5 rows and 6 columns, and fills it with zeros."
      ],
      "metadata": {
        "id": "XBHvQwpJ86k_"
      }
    },
    {
      "cell_type": "code",
      "execution_count": 63,
      "source": [
        "arr = []\n",
        "for i in range(5):  # rows\n",
        "  arr.append([])\n",
        "  for j in range(6):  # columns\n",
        "    arr[-1].append(0)\n",
        "arr"
      ],
      "outputs": [
        {
          "output_type": "execute_result",
          "data": {
            "text/plain": [
              "[[0, 0, 0, 0, 0, 0],\n",
              " [0, 0, 0, 0, 0, 0],\n",
              " [0, 0, 0, 0, 0, 0],\n",
              " [0, 0, 0, 0, 0, 0],\n",
              " [0, 0, 0, 0, 0, 0]]"
            ]
          },
          "metadata": {},
          "execution_count": 63
        }
      ],
      "metadata": {
        "colab": {
          "base_uri": "https://localhost:8080/"
        },
        "id": "uqnxr9W50w3Z",
        "outputId": "81ed0989-e3e9-4881-e9fc-3187394e0572"
      }
    },
    {
      "cell_type": "markdown",
      "source": [
        "Once the matrix is created, one can read / write individual cells using their indices (row index first, then column index).\n",
        "\n",
        "- Don't forget that indices start with zero.\n",
        "- Format for referring to matrix elements [row][col] (by index positions)"
      ],
      "metadata": {
        "id": "VERMSi_n9-ER"
      }
    },
    {
      "cell_type": "code",
      "execution_count": 64,
      "source": [
        "arr[1][2] = 3\n",
        "arr"
      ],
      "outputs": [
        {
          "output_type": "execute_result",
          "data": {
            "text/plain": [
              "[[0, 0, 0, 0, 0, 0],\n",
              " [0, 0, 3, 0, 0, 0],\n",
              " [0, 0, 0, 0, 0, 0],\n",
              " [0, 0, 0, 0, 0, 0],\n",
              " [0, 0, 0, 0, 0, 0]]"
            ]
          },
          "metadata": {},
          "execution_count": 64
        }
      ],
      "metadata": {
        "colab": {
          "base_uri": "https://localhost:8080/"
        },
        "id": "zNnV_JGD-Kbs",
        "outputId": "06427c78-85b9-4a8c-f267-e6c89d2c5f89"
      }
    },
    {
      "cell_type": "code",
      "execution_count": 65,
      "source": [
        "arr[1][2]"
      ],
      "outputs": [
        {
          "output_type": "execute_result",
          "data": {
            "text/plain": [
              "3"
            ]
          },
          "metadata": {},
          "execution_count": 65
        }
      ],
      "metadata": {
        "colab": {
          "base_uri": "https://localhost:8080/"
        },
        "id": "6Y4VrPjy-ht2",
        "outputId": "48575002-a0de-4a15-addc-1a4dc09ca25d"
      }
    },
    {
      "cell_type": "markdown",
      "source": [
        "## Score and traceback matrices"
      ],
      "metadata": {
        "id": "n236AOza969A"
      }
    },
    {
      "cell_type": "markdown",
      "source": [
        "For pairwise sequence alignment, we want to create a **score matrix** and a **traceback matrix**, each with n + 1 rows and m + 1 columns.\n",
        "\n",
        "- The creation of nested lists can be achieved using nested list comprehensions."
      ],
      "metadata": {
        "id": "ihWeI7ZR1FBP"
      }
    },
    {
      "cell_type": "markdown",
      "source": [
        "Score matrix"
      ],
      "metadata": {
        "id": "azklEGajKdu-"
      }
    },
    {
      "cell_type": "code",
      "execution_count": 66,
      "source": [
        "# j in rows, i in colummns for n+1 x m+1 matrix\n",
        "sm = [[0 for i in range(m + 1)] for j in range(n + 1)] \n",
        "sm"
      ],
      "outputs": [
        {
          "output_type": "execute_result",
          "data": {
            "text/plain": [
              "[[0, 0, 0, 0, 0, 0, 0],\n",
              " [0, 0, 0, 0, 0, 0, 0],\n",
              " [0, 0, 0, 0, 0, 0, 0],\n",
              " [0, 0, 0, 0, 0, 0, 0],\n",
              " [0, 0, 0, 0, 0, 0, 0],\n",
              " [0, 0, 0, 0, 0, 0, 0],\n",
              " [0, 0, 0, 0, 0, 0, 0]]"
            ]
          },
          "metadata": {},
          "execution_count": 66
        }
      ],
      "metadata": {
        "colab": {
          "base_uri": "https://localhost:8080/"
        },
        "id": "gDg4aadoXNF-",
        "outputId": "d9b9ea09-dbb4-46aa-8ebf-9bdd619c2021"
      }
    },
    {
      "cell_type": "markdown",
      "source": [
        "Traceback matrix"
      ],
      "metadata": {
        "id": "2aULwrp-Kfpn"
      }
    },
    {
      "cell_type": "code",
      "execution_count": 67,
      "source": [
        "# create a matrix of empty strings\n",
        "tm = [['' for i in range(m + 1)] for j in range(n + 1)]\n",
        "tm"
      ],
      "outputs": [
        {
          "output_type": "execute_result",
          "data": {
            "text/plain": [
              "[['', '', '', '', '', '', ''],\n",
              " ['', '', '', '', '', '', ''],\n",
              " ['', '', '', '', '', '', ''],\n",
              " ['', '', '', '', '', '', ''],\n",
              " ['', '', '', '', '', '', ''],\n",
              " ['', '', '', '', '', '', ''],\n",
              " ['', '', '', '', '', '', '']]"
            ]
          },
          "metadata": {},
          "execution_count": 67
        }
      ],
      "metadata": {
        "colab": {
          "base_uri": "https://localhost:8080/"
        },
        "id": "Pt292UkDb7Sy",
        "outputId": "f8e8f935-2eaf-4059-cfbc-1a38b631af49"
      }
    },
    {
      "cell_type": "markdown",
      "source": [
        "## First row and first column\n",
        "\n",
        "- The top left cell already has the value 0, so there is nothing to be done."
      ],
      "metadata": {
        "id": "r_F5EoqC1f5V"
      }
    },
    {
      "cell_type": "code",
      "execution_count": 68,
      "source": [
        "# makes sure start cell is initialized to zero\n",
        "sm[0][0]"
      ],
      "outputs": [
        {
          "output_type": "execute_result",
          "data": {
            "text/plain": [
              "0"
            ]
          },
          "metadata": {},
          "execution_count": 68
        }
      ],
      "metadata": {
        "colab": {
          "base_uri": "https://localhost:8080/"
        },
        "id": "-WrxW4h61fm9",
        "outputId": "225abd42-d2dd-4f56-bce1-2f13604e3311"
      }
    },
    {
      "cell_type": "markdown",
      "source": [
        "Fill first row (from (0, 1) to (0, m)).\n",
        "\n",
        "- A cell value equals to the left cell value plus the gap score.\n",
        "- (row, col) index to (row, col) index"
      ],
      "metadata": {
        "id": "TrKZCdE91qRR"
      }
    },
    {
      "cell_type": "code",
      "execution_count": 69,
      "source": [
        "for i in range(m):\n",
        "  sm[0][i + 1] = sm[0][i] + ss[2] #adds previous score square plus gap penalty(ss[2])\n",
        "  tm[0][i + 1] = 'L'"
      ],
      "outputs": [],
      "metadata": {
        "id": "u7fY8G32XNB7"
      }
    },
    {
      "cell_type": "markdown",
      "source": [
        "Fill first column (from (1, 0) to (n, 0)).\n",
        "\n",
        "- A cell value equals to the upper cell value plus the gap score."
      ],
      "metadata": {
        "id": "S3jkkkUj2PO5"
      }
    },
    {
      "cell_type": "code",
      "execution_count": 70,
      "source": [
        "for i in range(n):\n",
        "  sm[i + 1][0] = sm[i][0] + ss[2] #adds previous score square plus gap penalty (ss[2])\n",
        "  tm[i + 1][0] = 'U' #simutaneously fills tm matrix with direction"
      ],
      "outputs": [],
      "metadata": {
        "id": "TaFUfA2fXM-e"
      }
    },
    {
      "cell_type": "markdown",
      "source": [
        "See what we have."
      ],
      "metadata": {
        "id": "Ud-6IeQw_p8e"
      }
    },
    {
      "cell_type": "code",
      "execution_count": 71,
      "source": [
        "# where sm is the numerical score matrix and tm is the directional alpha matrix\n",
        "sm, tm"
      ],
      "outputs": [
        {
          "output_type": "execute_result",
          "data": {
            "text/plain": [
              "([[0, -1, -2, -3, -4, -5, -6],\n",
              "  [-1, 0, 0, 0, 0, 0, 0],\n",
              "  [-2, 0, 0, 0, 0, 0, 0],\n",
              "  [-3, 0, 0, 0, 0, 0, 0],\n",
              "  [-4, 0, 0, 0, 0, 0, 0],\n",
              "  [-5, 0, 0, 0, 0, 0, 0],\n",
              "  [-6, 0, 0, 0, 0, 0, 0]],\n",
              " [['', 'L', 'L', 'L', 'L', 'L', 'L'],\n",
              "  ['U', '', '', '', '', '', ''],\n",
              "  ['U', '', '', '', '', '', ''],\n",
              "  ['U', '', '', '', '', '', ''],\n",
              "  ['U', '', '', '', '', '', ''],\n",
              "  ['U', '', '', '', '', '', ''],\n",
              "  ['U', '', '', '', '', '', '']])"
            ]
          },
          "metadata": {},
          "execution_count": 71
        }
      ],
      "metadata": {
        "colab": {
          "base_uri": "https://localhost:8080/"
        },
        "id": "Vnivbq1HZ0LC",
        "outputId": "cf628ba0-664c-4d3f-9a2c-bc2f228fdb5b"
      }
    },
    {
      "cell_type": "markdown",
      "source": [
        "## Matrix body"
      ],
      "metadata": {
        "id": "YK-w-zWb2p1S"
      }
    },
    {
      "cell_type": "markdown",
      "source": [
        "There are three directions. We can assign one variable for each direction. But a more elegant way is to create a **dictionary** for all three of them. Below is an example:"
      ],
      "metadata": {
        "id": "7QSE_zYNA8pH"
      }
    },
    {
      "cell_type": "code",
      "execution_count": 72,
      "source": [
        "# Makes a dictionary for the cumulative scores\n",
        "scores = {'L': 3, 'U': 2, 'D': 4}"
      ],
      "outputs": [],
      "metadata": {
        "id": "VF3OxRc-BUv_"
      }
    },
    {
      "cell_type": "markdown",
      "source": [
        "With a dictionary, one can iterate over its **keys**, or **values**, or both (using **items**). This enables convenient batch operations."
      ],
      "metadata": {
        "id": "wO-OV6AQBoY6"
      }
    },
    {
      "cell_type": "code",
      "execution_count": 73,
      "source": [
        "# refers the keys from the dictionary\n",
        "scores.keys()"
      ],
      "outputs": [
        {
          "output_type": "execute_result",
          "data": {
            "text/plain": [
              "dict_keys(['L', 'U', 'D'])"
            ]
          },
          "metadata": {},
          "execution_count": 73
        }
      ],
      "metadata": {
        "colab": {
          "base_uri": "https://localhost:8080/"
        },
        "id": "bzC5mg7JBfMH",
        "outputId": "91df7323-041f-4557-9534-7c2815454647"
      }
    },
    {
      "cell_type": "code",
      "execution_count": 74,
      "source": [
        "# gives the values for the keys\n",
        "scores.values()"
      ],
      "outputs": [
        {
          "output_type": "execute_result",
          "data": {
            "text/plain": [
              "dict_values([3, 2, 4])"
            ]
          },
          "metadata": {},
          "execution_count": 74
        }
      ],
      "metadata": {
        "colab": {
          "base_uri": "https://localhost:8080/"
        },
        "id": "nEdX9kEsBkCW",
        "outputId": "1c34321f-8036-4ff1-867a-23c44e41502c"
      }
    },
    {
      "cell_type": "code",
      "execution_count": 75,
      "source": [
        "# Gives key and value pairs as tuples\n",
        "scores.items()"
      ],
      "outputs": [
        {
          "output_type": "execute_result",
          "data": {
            "text/plain": [
              "dict_items([('L', 3), ('U', 2), ('D', 4)])"
            ]
          },
          "metadata": {},
          "execution_count": 75
        }
      ],
      "metadata": {
        "colab": {
          "base_uri": "https://localhost:8080/"
        },
        "id": "-6RT3cRZBl6T",
        "outputId": "eed97c07-a356-4a9c-ecac-6c492fd4aeb4"
      }
    },
    {
      "cell_type": "code",
      "execution_count": 76,
      "source": [
        "for key, value in scores.items():\n",
        "    print(key, '=', value)"
      ],
      "outputs": [
        {
          "output_type": "stream",
          "name": "stdout",
          "text": [
            "L = 3\n",
            "U = 2\n",
            "D = 4\n"
          ]
        }
      ],
      "metadata": {}
    },
    {
      "cell_type": "markdown",
      "source": [
        "Given this knowledge, we can now start to fill both matrices using a nested `for` loop."
      ],
      "metadata": {
        "id": "J5ctUCNt_uV9"
      }
    },
    {
      "cell_type": "code",
      "execution_count": 77,
      "source": [
        "# for each row (n)\n",
        "for i in range(n):\n",
        "  \n",
        "  # for each column (m)\n",
        "  for j in range(m):\n",
        "\n",
        "    # calculate scores of the three directions, use binary bool values for diagonal score\n",
        "    scores = {\n",
        "      'L': sm[i + 1][j] + ss[2], #Left plus gap penalty\n",
        "      'U': sm[i][j + 1] + ss[2], # Right plus gap penalty\n",
        "      'D': sm[i][j] + ss[seq1[i] != seq2[j]]  # Diagonal plus mismatch/match, False is 0 (match), True is 1 (mismatch)\n",
        "    }\n",
        "\n",
        "    # calculate maximum score\n",
        "    maximum = max(scores.values())  # The `max` function returns the maximum of multiple numbers\n",
        "\n",
        "    # assigns maximum score to current sqaure in score matrix\n",
        "    sm[i + 1][j + 1] = maximum\n",
        "\n",
        "    # determine which direction(s) have the maximum score\n",
        "    for trace, score in scores.items():  # iterate over both keys (trace) and values (score)\n",
        "      if score == maximum: # checks for max score\n",
        "\n",
        "        # append direction to traceback matrix\n",
        "        tm[i + 1][j + 1] += trace"
      ],
      "outputs": [],
      "metadata": {
        "id": "PfsLgyFOZ0H9"
      }
    },
    {
      "cell_type": "markdown",
      "source": [
        "Now we can check the results."
      ],
      "metadata": {
        "id": "jLBcXYwrCokR"
      }
    },
    {
      "cell_type": "code",
      "execution_count": 78,
      "source": [
        "sm, tm"
      ],
      "outputs": [
        {
          "output_type": "execute_result",
          "data": {
            "text/plain": [
              "([[0, -1, -2, -3, -4, -5, -6],\n",
              "  [-1, 1, 0, -1, -2, -3, -4],\n",
              "  [-2, 0, 1, 1, 0, -1, -2],\n",
              "  [-3, -1, 0, 1, 2, 1, 0],\n",
              "  [-4, -2, -1, 1, 1, 3, 2],\n",
              "  [-5, -3, -2, 0, 2, 2, 3],\n",
              "  [-6, -4, -2, -1, 1, 2, 2]],\n",
              " [['', 'L', 'L', 'L', 'L', 'L', 'L'],\n",
              "  ['U', 'D', 'L', 'L', 'L', 'L', 'LD'],\n",
              "  ['U', 'U', 'D', 'D', 'L', 'LD', 'L'],\n",
              "  ['U', 'U', 'UD', 'D', 'D', 'L', 'L'],\n",
              "  ['U', 'U', 'UD', 'D', 'UD', 'D', 'L'],\n",
              "  ['U', 'U', 'UD', 'U', 'D', 'U', 'D'],\n",
              "  ['U', 'U', 'D', 'U', 'U', 'D', 'UD']])"
            ]
          },
          "metadata": {},
          "execution_count": 78
        }
      ],
      "metadata": {
        "colab": {
          "base_uri": "https://localhost:8080/"
        },
        "id": "wQEobkgSZ0E5",
        "outputId": "adc82585-a81b-4044-8848-251e9edd4f79"
      }
    },
    {
      "cell_type": "markdown",
      "source": [
        "## Matrix display using Pandas"
      ],
      "metadata": {
        "id": "X56lkr4BCsgz"
      }
    },
    {
      "cell_type": "markdown",
      "source": [
        "Pandas is a powerful Python library for working with tables. Here, we will use the very basic feature of it to render the matrices in a nice way."
      ],
      "metadata": {
        "id": "2YHt2sdN5AfQ"
      }
    },
    {
      "cell_type": "markdown",
      "source": [
        "To use a Python library, one needs to import it first.\n",
        "\n",
        "- The word `pd` is a common abbreviation for `pandas`."
      ],
      "metadata": {
        "id": "8Qx5ScQtDAzd"
      }
    },
    {
      "cell_type": "markdown",
      "source": [
        "We have a matrix `sm`. Its column heads are '-' plus Seq 2; row heads (referred to as `index`) are '-' plus Seq 1. Pandas can parse these parameters to generate a table."
      ],
      "metadata": {
        "id": "Yxo0Uw2PDKdL"
      }
    },
    {
      "cell_type": "code",
      "execution_count": 79,
      "source": [
        "dfs = pd.DataFrame(sm, columns=list('-' + seq2), index=list('-' + seq1))\n",
        "dfs"
      ],
      "outputs": [
        {
          "output_type": "execute_result",
          "data": {
            "text/html": [
              "<div>\n",
              "<style scoped>\n",
              "    .dataframe tbody tr th:only-of-type {\n",
              "        vertical-align: middle;\n",
              "    }\n",
              "\n",
              "    .dataframe tbody tr th {\n",
              "        vertical-align: top;\n",
              "    }\n",
              "\n",
              "    .dataframe thead th {\n",
              "        text-align: right;\n",
              "    }\n",
              "</style>\n",
              "<table border=\"1\" class=\"dataframe\">\n",
              "  <thead>\n",
              "    <tr style=\"text-align: right;\">\n",
              "      <th></th>\n",
              "      <th>-</th>\n",
              "      <th>A</th>\n",
              "      <th>T</th>\n",
              "      <th>C</th>\n",
              "      <th>G</th>\n",
              "      <th>C</th>\n",
              "      <th>A</th>\n",
              "    </tr>\n",
              "  </thead>\n",
              "  <tbody>\n",
              "    <tr>\n",
              "      <th>-</th>\n",
              "      <td>0</td>\n",
              "      <td>-1</td>\n",
              "      <td>-2</td>\n",
              "      <td>-3</td>\n",
              "      <td>-4</td>\n",
              "      <td>-5</td>\n",
              "      <td>-6</td>\n",
              "    </tr>\n",
              "    <tr>\n",
              "      <th>A</th>\n",
              "      <td>-1</td>\n",
              "      <td>1</td>\n",
              "      <td>0</td>\n",
              "      <td>-1</td>\n",
              "      <td>-2</td>\n",
              "      <td>-3</td>\n",
              "      <td>-4</td>\n",
              "    </tr>\n",
              "    <tr>\n",
              "      <th>C</th>\n",
              "      <td>-2</td>\n",
              "      <td>0</td>\n",
              "      <td>1</td>\n",
              "      <td>1</td>\n",
              "      <td>0</td>\n",
              "      <td>-1</td>\n",
              "      <td>-2</td>\n",
              "    </tr>\n",
              "    <tr>\n",
              "      <th>G</th>\n",
              "      <td>-3</td>\n",
              "      <td>-1</td>\n",
              "      <td>0</td>\n",
              "      <td>1</td>\n",
              "      <td>2</td>\n",
              "      <td>1</td>\n",
              "      <td>0</td>\n",
              "    </tr>\n",
              "    <tr>\n",
              "      <th>C</th>\n",
              "      <td>-4</td>\n",
              "      <td>-2</td>\n",
              "      <td>-1</td>\n",
              "      <td>1</td>\n",
              "      <td>1</td>\n",
              "      <td>3</td>\n",
              "      <td>2</td>\n",
              "    </tr>\n",
              "    <tr>\n",
              "      <th>G</th>\n",
              "      <td>-5</td>\n",
              "      <td>-3</td>\n",
              "      <td>-2</td>\n",
              "      <td>0</td>\n",
              "      <td>2</td>\n",
              "      <td>2</td>\n",
              "      <td>3</td>\n",
              "    </tr>\n",
              "    <tr>\n",
              "      <th>T</th>\n",
              "      <td>-6</td>\n",
              "      <td>-4</td>\n",
              "      <td>-2</td>\n",
              "      <td>-1</td>\n",
              "      <td>1</td>\n",
              "      <td>2</td>\n",
              "      <td>2</td>\n",
              "    </tr>\n",
              "  </tbody>\n",
              "</table>\n",
              "</div>"
            ],
            "text/plain": [
              "   -  A  T  C  G  C  A\n",
              "-  0 -1 -2 -3 -4 -5 -6\n",
              "A -1  1  0 -1 -2 -3 -4\n",
              "C -2  0  1  1  0 -1 -2\n",
              "G -3 -1  0  1  2  1  0\n",
              "C -4 -2 -1  1  1  3  2\n",
              "G -5 -3 -2  0  2  2  3\n",
              "T -6 -4 -2 -1  1  2  2"
            ]
          },
          "metadata": {},
          "execution_count": 79
        }
      ],
      "metadata": {
        "id": "aoqbgD3yduOF",
        "colab": {
          "base_uri": "https://localhost:8080/",
          "height": 269
        },
        "outputId": "421d0fc5-013d-4300-8ab3-59f49d9ff350"
      }
    },
    {
      "cell_type": "code",
      "execution_count": 80,
      "source": [
        "dft = pd.DataFrame(tm, columns=list('-' + seq2), index=list('-' + seq1))\n",
        "dft"
      ],
      "outputs": [
        {
          "output_type": "execute_result",
          "data": {
            "text/html": [
              "<div>\n",
              "<style scoped>\n",
              "    .dataframe tbody tr th:only-of-type {\n",
              "        vertical-align: middle;\n",
              "    }\n",
              "\n",
              "    .dataframe tbody tr th {\n",
              "        vertical-align: top;\n",
              "    }\n",
              "\n",
              "    .dataframe thead th {\n",
              "        text-align: right;\n",
              "    }\n",
              "</style>\n",
              "<table border=\"1\" class=\"dataframe\">\n",
              "  <thead>\n",
              "    <tr style=\"text-align: right;\">\n",
              "      <th></th>\n",
              "      <th>-</th>\n",
              "      <th>A</th>\n",
              "      <th>T</th>\n",
              "      <th>C</th>\n",
              "      <th>G</th>\n",
              "      <th>C</th>\n",
              "      <th>A</th>\n",
              "    </tr>\n",
              "  </thead>\n",
              "  <tbody>\n",
              "    <tr>\n",
              "      <th>-</th>\n",
              "      <td></td>\n",
              "      <td>L</td>\n",
              "      <td>L</td>\n",
              "      <td>L</td>\n",
              "      <td>L</td>\n",
              "      <td>L</td>\n",
              "      <td>L</td>\n",
              "    </tr>\n",
              "    <tr>\n",
              "      <th>A</th>\n",
              "      <td>U</td>\n",
              "      <td>D</td>\n",
              "      <td>L</td>\n",
              "      <td>L</td>\n",
              "      <td>L</td>\n",
              "      <td>L</td>\n",
              "      <td>LD</td>\n",
              "    </tr>\n",
              "    <tr>\n",
              "      <th>C</th>\n",
              "      <td>U</td>\n",
              "      <td>U</td>\n",
              "      <td>D</td>\n",
              "      <td>D</td>\n",
              "      <td>L</td>\n",
              "      <td>LD</td>\n",
              "      <td>L</td>\n",
              "    </tr>\n",
              "    <tr>\n",
              "      <th>G</th>\n",
              "      <td>U</td>\n",
              "      <td>U</td>\n",
              "      <td>UD</td>\n",
              "      <td>D</td>\n",
              "      <td>D</td>\n",
              "      <td>L</td>\n",
              "      <td>L</td>\n",
              "    </tr>\n",
              "    <tr>\n",
              "      <th>C</th>\n",
              "      <td>U</td>\n",
              "      <td>U</td>\n",
              "      <td>UD</td>\n",
              "      <td>D</td>\n",
              "      <td>UD</td>\n",
              "      <td>D</td>\n",
              "      <td>L</td>\n",
              "    </tr>\n",
              "    <tr>\n",
              "      <th>G</th>\n",
              "      <td>U</td>\n",
              "      <td>U</td>\n",
              "      <td>UD</td>\n",
              "      <td>U</td>\n",
              "      <td>D</td>\n",
              "      <td>U</td>\n",
              "      <td>D</td>\n",
              "    </tr>\n",
              "    <tr>\n",
              "      <th>T</th>\n",
              "      <td>U</td>\n",
              "      <td>U</td>\n",
              "      <td>D</td>\n",
              "      <td>U</td>\n",
              "      <td>U</td>\n",
              "      <td>D</td>\n",
              "      <td>UD</td>\n",
              "    </tr>\n",
              "  </tbody>\n",
              "</table>\n",
              "</div>"
            ],
            "text/plain": [
              "   -  A   T  C   G   C   A\n",
              "-     L   L  L   L   L   L\n",
              "A  U  D   L  L   L   L  LD\n",
              "C  U  U   D  D   L  LD   L\n",
              "G  U  U  UD  D   D   L   L\n",
              "C  U  U  UD  D  UD   D   L\n",
              "G  U  U  UD  U   D   U   D\n",
              "T  U  U   D  U   U   D  UD"
            ]
          },
          "metadata": {},
          "execution_count": 80
        }
      ],
      "metadata": {
        "colab": {
          "base_uri": "https://localhost:8080/",
          "height": 269
        },
        "id": "ZP3Mp5HtduH6",
        "outputId": "633a7d03-7b43-439e-c36d-f00b19cd9e20"
      }
    },
    {
      "cell_type": "markdown",
      "source": [
        "## Trace back\n",
        "\n",
        "- Note: This method finds one optimal solution."
      ],
      "metadata": {
        "id": "jdIQyqH_5HYL"
      }
    },
    {
      "cell_type": "markdown",
      "source": [
        "Create an empty alignment (two empty strings)."
      ],
      "metadata": {
        "id": "60m5L_GV5iz0"
      }
    },
    {
      "cell_type": "code",
      "execution_count": 81,
      "source": [
        "aln1 = ''\n",
        "aln2 = ''"
      ],
      "outputs": [],
      "metadata": {
        "id": "Fm2LHENT5ZQF"
      }
    },
    {
      "cell_type": "markdown",
      "source": [
        "Start from the bottom right cell (n, m)."
      ],
      "metadata": {
        "id": "MyQBGymG5rPh"
      }
    },
    {
      "cell_type": "code",
      "execution_count": 82,
      "source": [
        "i = n\n",
        "j = m"
      ],
      "outputs": [],
      "metadata": {
        "id": "jVX72OZb5zAE"
      }
    },
    {
      "cell_type": "markdown",
      "source": [
        "Use a **while** loop to repeat the code until reaching the top left (0, 0) cell.\n",
        "\n",
        "- The `while <condition>:` structure will keep executing the included code as long as the condition is True.\n",
        "- In this case, the loop will start from the bottom right cell (n, m), move up / left / up-left as needed, until it reaches the top left cell (0, 0), where i + j = 0 + 0 > 0 is False, and the loop stops."
      ],
      "metadata": {
        "id": "IDjEDRro7zg1"
      }
    },
    {
      "cell_type": "code",
      "execution_count": 83,
      "source": [
        "while i + j > 0:\n",
        "\n",
        "  # move left\n",
        "  if 'L' in tm[i][j]:\n",
        "    \n",
        "    # add a gap to aligned sequence 1\n",
        "    aln1 = '-' + aln1\n",
        "\n",
        "    # take a base from sequence 2 and add it to aligned sequence 2\n",
        "    aln2 = seq2[j - 1] + aln2\n",
        "\n",
        "    # move to the left cell\n",
        "    j -= 1\n",
        "\n",
        "  # move up\n",
        "  elif 'U' in tm[i][j]:\n",
        "    aln1 = seq1[i - 1] + aln1\n",
        "    aln2 = '-' + aln2\n",
        "    i -= 1\n",
        "\n",
        "  # move upper left\n",
        "  elif 'D' in tm[i][j]:\n",
        "    aln1 = seq1[i - 1] + aln1\n",
        "    aln2 = seq2[j - 1] + aln2\n",
        "    i -= 1\n",
        "    j -= 1"
      ],
      "outputs": [],
      "metadata": {
        "id": "MQKrncgtduEs"
      }
    },
    {
      "cell_type": "markdown",
      "source": [
        "## Final result\n",
        "\n",
        "Print the result."
      ],
      "metadata": {
        "id": "XiDdhhNPEgJx"
      }
    },
    {
      "cell_type": "code",
      "execution_count": 84,
      "source": [
        "print(aln1)\n",
        "print(aln2)"
      ],
      "outputs": [
        {
          "output_type": "stream",
          "name": "stdout",
          "text": [
            "A-CGCGT\n",
            "ATCGCA-\n"
          ]
        }
      ],
      "metadata": {
        "id": "mVMl7E5YduBM",
        "colab": {
          "base_uri": "https://localhost:8080/"
        },
        "outputId": "507328a9-bedd-4ab9-e98c-b9434575e1f4"
      }
    },
    {
      "cell_type": "markdown",
      "source": [
        "## Custom function\n",
        "\n",
        "We can combine all code into a large custom function to perform the entire pairwise sequence alignment."
      ],
      "metadata": {
        "id": "SU7PSYQf4qyl"
      }
    },
    {
      "cell_type": "code",
      "execution_count": 85,
      "source": [
        "def pairwise_alignment(seq1, seq2, ss):\n",
        "  \"\"\"Compute an optimal alignment between two sequences given a scoring system.\n",
        "\n",
        "  Parameters\n",
        "  ----------\n",
        "  seq1 : str\n",
        "    First sequence to be aligned.\n",
        "  seq2 : str\n",
        "    Second sequence to be aligned.\n",
        "  ss : tuple of (int, int, int)\n",
        "    Scores of match, mismatch and gap.\n",
        "\n",
        "  Returns\n",
        "  -------\n",
        "  str\n",
        "    First sequence in alignment.\n",
        "  str\n",
        "    Second sequence in alignment.\n",
        "  \"\"\"\n",
        "\n",
        "  # matrix dimensions\n",
        "  n, m = len(seq1), len(seq2)\n",
        "\n",
        "  # create empty matrices\n",
        "  sm = [[0 for i in range(m + 1)] for j in range(n + 1)]\n",
        "  tm = [['' for i in range(m + 1)] for j in range(n + 1)]\n",
        "\n",
        "  # fill first rows and columns\n",
        "  for i in range(m):\n",
        "    sm[0][i + 1] = sm[0][i] + ss[2]\n",
        "    tm[0][i + 1] = 'L'\n",
        "  for i in range(n):\n",
        "    sm[i + 1][0] = sm[i][0] + ss[2]\n",
        "    tm[i + 1][0] = 'U'\n",
        "\n",
        "  # fill matrix bodies\n",
        "  for i in range(n):\n",
        "    for j in range(m):\n",
        "      scores = {\n",
        "        'L': sm[i + 1][j] + ss[2],\n",
        "        'U': sm[i][j + 1] + ss[2],\n",
        "        'D': sm[i][j] + ss[seq1[i] != seq2[j]]\n",
        "      }\n",
        "      maximum = max(scores.values())\n",
        "      sm[i + 1][j + 1] = maximum\n",
        "      for trace, score in scores.items():\n",
        "        if score == maximum:\n",
        "          tm[i + 1][j + 1] = trace\n",
        "\n",
        "  # trace back to determine optimal alignment\n",
        "  aln1, aln2 = '', ''\n",
        "  i, j = n, m\n",
        "  while i + j > 0:\n",
        "    if 'L' in tm[i][j]:\n",
        "      aln1 = '-' + aln1\n",
        "      aln2 = seq2[j - 1] + aln2\n",
        "      j -= 1\n",
        "    elif 'U' in tm[i][j]:\n",
        "      aln1 = seq1[i - 1] + aln1\n",
        "      aln2 = '-' + aln2\n",
        "      i -= 1\n",
        "    elif 'D' in tm[i][j]:\n",
        "      aln1 = seq1[i - 1] + aln1\n",
        "      aln2 = seq2[j - 1] + aln2\n",
        "      i -= 1\n",
        "      j -= 1\n",
        "\n",
        "  # return alignment\n",
        "  return aln1, aln2"
      ],
      "outputs": [],
      "metadata": {
        "id": "lNiIEh353GeF"
      }
    },
    {
      "cell_type": "markdown",
      "source": [
        "Let's put this function to test."
      ],
      "metadata": {
        "id": "8z409iHJ42GZ"
      }
    },
    {
      "cell_type": "code",
      "execution_count": 86,
      "source": [
        "ss_a1 = (2, -1, -3)"
      ],
      "outputs": [],
      "metadata": {
        "id": "Dsf_SPGj5ZaX"
      }
    },
    {
      "cell_type": "code",
      "execution_count": 87,
      "source": [
        "seq_a1 = 'GGCAGCTACG'\n",
        "seq_a2 = 'GTATCGACTA'"
      ],
      "outputs": [],
      "metadata": {
        "id": "SUGNXcNV5LxN"
      }
    },
    {
      "cell_type": "code",
      "execution_count": 88,
      "source": [
        "aln_a1, aln_a2 = pairwise_alignment(seq_a1, seq_a2, ss=ss_a1)"
      ],
      "outputs": [],
      "metadata": {
        "id": "6PkhzxsJ4eJx"
      }
    },
    {
      "cell_type": "code",
      "execution_count": 89,
      "source": [
        "print(aln_a1)\n",
        "print(aln_a2)"
      ],
      "outputs": [
        {
          "output_type": "stream",
          "name": "stdout",
          "text": [
            "GGCAGCTAC-G\n",
            "-GTATCGACTA\n"
          ]
        }
      ],
      "metadata": {
        "colab": {
          "base_uri": "https://localhost:8080/"
        },
        "id": "9qDwWwWx5VBn",
        "outputId": "0912fe91-1947-4197-cd5b-83d452569246"
      }
    },
    {
      "cell_type": "markdown",
      "source": [
        "We can also write this in one line."
      ],
      "metadata": {
        "id": "z1-prQrx5joK"
      }
    },
    {
      "cell_type": "code",
      "execution_count": 90,
      "source": [
        "print('\\n'.join(pairwise_alignment('GGCAGCTACG', 'GTATCGACTA', (1, -1, -2))))"
      ],
      "outputs": [
        {
          "output_type": "stream",
          "name": "stdout",
          "text": [
            "GGCAGCTAC-G\n",
            "-GTATCGACTA\n"
          ]
        }
      ],
      "metadata": {
        "colab": {
          "base_uri": "https://localhost:8080/"
        },
        "id": "VfZRu8nU483R",
        "outputId": "acd8a98d-34ac-47cc-9fa1-89c6bd491760"
      }
    },
    {
      "cell_type": "markdown",
      "source": [
        "## Real-world data"
      ],
      "metadata": {
        "id": "Aq7y6JPGNqj6"
      }
    },
    {
      "cell_type": "markdown",
      "source": [
        "Now let's try some real sequences:\n",
        "\n",
        "- Human (NM_000600.5): https://www.ncbi.nlm.nih.gov/nucleotide/NM_000600.5\n",
        "- Mouse (NM_031168.2): https://www.ncbi.nlm.nih.gov/nucleotide/NM_031168.2"
      ],
      "metadata": {
        "id": "q_vcpF9oLiGk"
      }
    },
    {
      "cell_type": "code",
      "execution_count": 91,
      "source": [
        "human = 'ATGAACTCCTTCTCCACAAGCGCCTTCGGTCCAGTTGCCTTCTCCCTGGGGCTGCTCCTGGTGTTGCCTG'\n",
        "mouse = 'ATGAAGTTCCTCTCTGCAAGAGACTTCCATCCAGTTGCCTTCTTGGGACTGATGCTGGTGACAACCACGG'"
      ],
      "outputs": [],
      "metadata": {
        "id": "kif7Q4gYLgaT"
      }
    },
    {
      "cell_type": "markdown",
      "source": [
        "We can record the compute time using `%%time` at the beginning of a cell."
      ],
      "metadata": {
        "id": "5cWIQDqTMTI8"
      }
    },
    {
      "cell_type": "code",
      "execution_count": 92,
      "source": [
        "%%time\n",
        "human_aln, mouse_aln = pairwise_alignment(human, mouse, (1, -1, -2))"
      ],
      "outputs": [
        {
          "output_type": "stream",
          "name": "stdout",
          "text": [
            "CPU times: user 16.6 ms, sys: 3.6 ms, total: 20.2 ms\n",
            "Wall time: 20 ms\n"
          ]
        }
      ],
      "metadata": {
        "colab": {
          "base_uri": "https://localhost:8080/"
        },
        "id": "vnqW6qC5MGrH",
        "outputId": "a5270dac-032c-40ff-a854-5d3790ef5441"
      }
    },
    {
      "cell_type": "code",
      "execution_count": 93,
      "source": [
        "print(human_aln)\n",
        "print(mouse_aln)"
      ],
      "outputs": [
        {
          "output_type": "stream",
          "name": "stdout",
          "text": [
            "ATGAACTCCTTCTCCACAAGCGCCTTCGGTCCAGTTGCCTTCTCCCTGGGGCTGCTCCTGGTG--TTGC-CTG\n",
            "ATGAAGTTCCTCTCTGCAAGAGACTTCCATCCAGTTGCCTTCT---TGGGACTGATGCTGGTGACAACCACGG\n"
          ]
        }
      ],
      "metadata": {
        "colab": {
          "base_uri": "https://localhost:8080/"
        },
        "id": "U-naHZGHL-9i",
        "outputId": "09b208a5-883c-40ae-e9ff-2a0218fce0e0"
      }
    },
    {
      "cell_type": "markdown",
      "source": [
        "## Appendices\n",
        "\n",
        "The following content involves advanced Python programming skills. There is no requirement to understand or remember them, although you may explore them if you are interested. Some skills demonstrated below will be covered in future classes."
      ],
      "metadata": {
        "id": "SpwLznV-50hP"
      }
    },
    {
      "cell_type": "markdown",
      "source": [
        "### Visualize alignment matrix\n",
        "\n",
        "Matplotlib is a Python library for generating plots. With its help, one can plot the score matrix (cell values) and the traceback matrix (arrows) in one view.\n",
        "\n",
        "The following code is for you to conveniently create a figure of the alignment matrix given arbitrary sequences."
      ],
      "metadata": {
        "id": "YTRRFNfqEtHN"
      }
    },
    {
      "cell_type": "code",
      "execution_count": 94,
      "source": [
        "import matplotlib.pyplot as plt"
      ],
      "outputs": [],
      "metadata": {
        "id": "6I_VNnWOEuvb"
      }
    },
    {
      "cell_type": "code",
      "execution_count": 95,
      "source": [
        "# specify figure size\n",
        "plt.figure(figsize=(m + 1, n + 1))\n",
        "\n",
        "# specify graphic style\n",
        "font_size = dict(size='x-large')\n",
        "grid_style = dict(color='grey', lw=1)\n",
        "arrow_style = dict(fc='red', ec='red', head_width=0.15, head_length=0.1)\n",
        "\n",
        "# iterate over rows and columns\n",
        "for i in range(n + 1):\n",
        "  for j in range(m + 1):\n",
        "    \n",
        "    # print cell values\n",
        "    plt.text(j + 0.5, n - i + 0.5, sm[i][j], ha='center', va='center', **font_size)\n",
        "\n",
        "    # draw arrows\n",
        "    for k in tm[i][j]:\n",
        "      if k == 'L':\n",
        "        plt.arrow(j + 0.3, n - i + 0.5, -0.4, 0, **arrow_style)\n",
        "      elif k == 'U':\n",
        "        plt.arrow(j + 0.5, n - i + 0.8, 0, 0.4, **arrow_style)\n",
        "      elif k == 'D':\n",
        "        plt.arrow(j + 0.25, n - i + 0.85, -0.3, 0.3, **arrow_style)\n",
        "\n",
        "# draw grid\n",
        "for i in range(n):\n",
        "  plt.axhline(i + 1, **grid_style)\n",
        "for j in range(m):\n",
        "  plt.axvline(j + 1, **grid_style)\n",
        "\n",
        "# print axis labels\n",
        "plt.xticks([x + 0.5 for x in range(m + 1)], '-' + seq2, **font_size)\n",
        "plt.yticks([x + 0.5 for x in range(n + 1)], reversed('-' + seq1), **font_size)\n",
        "\n",
        "# specify graph range\n",
        "plt.xlim(0, m + 1)\n",
        "plt.ylim(0, n + 1)\n",
        "\n",
        "# move x-axis to top\n",
        "plt.gca().xaxis.tick_top();"
      ],
      "outputs": [
        {
          "output_type": "display_data",
          "data": {
            "image/png": "[encoded data removed]",
            "text/plain": [
              "<Figure size 504x504 with 1 Axes>"
            ]
          },
          "metadata": {
            "needs_background": "light"
          }
        }
      ],
      "metadata": {
        "colab": {
          "base_uri": "https://localhost:8080/",
          "height": 432
        },
        "id": "tBgT0d0KEumV",
        "outputId": "a65c6a79-640a-4896-b81b-fe1f026125da"
      }
    },
    {
      "cell_type": "code",
      "execution_count": null,
      "source": [],
      "outputs": [],
      "metadata": {
        "id": "rLNFs4JuLKXL"
      }
    }
  ]
}