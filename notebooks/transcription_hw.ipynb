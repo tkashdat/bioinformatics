{
 "cells": [
  {
   "cell_type": "code",
   "execution_count": 1,
   "source": [
    "#Base Sequence 1\n",
    "base1 = 'TTTTTTTTTTTTTTTTCCCCCCCCCCCCCCCCAAAAAAAAAAAAAAAAGGGGGGGGGGGGGGGG'"
   ],
   "outputs": [],
   "metadata": {}
  },
  {
   "cell_type": "code",
   "execution_count": 2,
   "source": [
    "#Base Sequence 2\n",
    "base2 = 'TTTTCCCCAAAAGGGGTTTTCCCCAAAAGGGGTTTTCCCCAAAAGGGGTTTTCCCCAAAAGGGG'"
   ],
   "outputs": [],
   "metadata": {}
  },
  {
   "cell_type": "code",
   "execution_count": 3,
   "source": [
    "#Base Sequence 3\n",
    "base3 = 'TCAGTCAGTCAGTCAGTCAGTCAGTCAGTCAGTCAGTCAGTCAGTCAGTCAGTCAGTCAGTCAG'"
   ],
   "outputs": [],
   "metadata": {}
  },
  {
   "cell_type": "code",
   "execution_count": 4,
   "source": [
    "#Amino Acid Sequence\n",
    "AA = 'FFLLSSSSYY**CC*WLLLLPPPPHHQQRRRRIIIMTTTTNNKKSSRRVVVVAAAADDEEGGGG'"
   ],
   "outputs": [],
   "metadata": {}
  },
  {
   "cell_type": "code",
   "execution_count": 5,
   "source": [
    "#create lists for each base\n",
    "base1_list = []\n",
    "base2_list = []\n",
    "base3_list = []"
   ],
   "outputs": [],
   "metadata": {}
  },
  {
   "cell_type": "code",
   "execution_count": 6,
   "source": [
    "base1_list = [base for base in base1]"
   ],
   "outputs": [],
   "metadata": {}
  },
  {
   "cell_type": "code",
   "execution_count": 7,
   "source": [
    "base2_list = [base for base in base2]"
   ],
   "outputs": [],
   "metadata": {}
  },
  {
   "cell_type": "code",
   "execution_count": 8,
   "source": [
    "base3_list = [base for base in base3]"
   ],
   "outputs": [],
   "metadata": {}
  },
  {
   "cell_type": "code",
   "execution_count": 9,
   "source": [
    "new_list = []\n",
    "for x in range(len(base1_list)):\n",
    "    new_list.append(base1_list[x])\n",
    "    new_list.append(base2_list[x])\n",
    "    new_list.append(base3_list[x])"
   ],
   "outputs": [],
   "metadata": {}
  },
  {
   "cell_type": "code",
   "execution_count": 10,
   "source": [
    "formatted_list = [new_list[i:i+3] for i in range(0, len(new_list), 3)]    "
   ],
   "outputs": [],
   "metadata": {}
  },
  {
   "cell_type": "code",
   "execution_count": 11,
   "source": [
    "formatted_list_triple = [''.join(formatted_list[p]) for p in range(len(formatted_list))]"
   ],
   "outputs": [],
   "metadata": {}
  },
  {
   "cell_type": "code",
   "execution_count": 12,
   "source": [
    "aa_dict = {\n",
    "    'F':['TTT', 'TTC'], \n",
    "    'L':['TTA', 'TTG', 'CTT', 'CTC', 'CTA', 'CTG'],\n",
    "    'I':['ATT', 'ATC', 'ATA'],\n",
    "    'M': 'ATG',\n",
    "    'V':['GTT', 'GTC', 'GTA', 'GTG'],\n",
    "    'S':['TCT', 'TCC', 'TCA', 'TCG', 'AGT', 'AGC'],\n",
    "    'P':['CCT', 'CCC', 'CCA', 'CCG'],\n",
    "    'T':['ACT', 'ACC', 'ACA', 'ACG'],\n",
    "    'A':['GCT', 'GCC', 'GCA', 'GCG'],\n",
    "    'Y':['TAT', 'TAC'],\n",
    "    '*':['TAA', 'TAG', 'TGA'],\n",
    "    'H':['CAT', 'CAC'],\n",
    "    'Q':['CAA', 'CAG'],\n",
    "    'N':['AAT', 'AAC'],\n",
    "    'K':['AAA', 'AAG'],\n",
    "    'D':['GAT', 'GAC'],\n",
    "    'E':['GAA', 'GAG'],\n",
    "    'C':['TGT', 'TGC'],\n",
    "    'W': 'TGG',\n",
    "    'R':['CGT', 'CGC', 'CGA', 'CGG', 'AGA', 'AGG'],\n",
    "    'G':['GGT', 'GGC', 'GGA', 'GGG']\n",
    "    }"
   ],
   "outputs": [],
   "metadata": {}
  },
  {
   "cell_type": "code",
   "execution_count": 13,
   "source": [
    "amino_acid_sequence = []\n",
    "for value in formatted_list_triple:\n",
    "    for key, values in aa_dict.items():\n",
    "        if value in values:\n",
    "            amino_acid_sequence.append(key) \n",
    "final_amino_acid_sequence = ''.join(amino_acid_sequence)\n",
    "\n",
    "print (final_amino_acid_sequence)"
   ],
   "outputs": [
    {
     "output_type": "stream",
     "name": "stdout",
     "text": [
      "FFLLSSSSYY**CC*WLLLLPPPPHHQQRRRRIIIMTTTTNNKKSSRRVVVVAAAADDEEGGGG\n"
     ]
    }
   ],
   "metadata": {}
  },
  {
   "cell_type": "code",
   "execution_count": 14,
   "source": [
    "final_amino_acid_sequence == AA"
   ],
   "outputs": [
    {
     "output_type": "execute_result",
     "data": {
      "text/plain": [
       "True"
      ]
     },
     "metadata": {},
     "execution_count": 14
    }
   ],
   "metadata": {}
  },
  {
   "cell_type": "code",
   "execution_count": 15,
   "source": [
    "#Alternately you can use built in functions to do the logicla for this problem as long as you format the ditionary with codons as the keys and the \n",
    "# AA as value\n",
    "\n",
    "#concatonating multiple strings into one for the AA sequence\n",
    "#gcode = {}\n",
    "#for i in range(len(AAs)):\n",
    "  #gcode[Base1[i] + Base2[i] + Base3[i]] = AAs[i]\n",
    "\n",
    "#interate over multiple sequnces at once using the zip function\n",
    "#gcode = {b1 + b2 + b3: aa for aa, b1, b2, b3 in zip(AAs, Base1, Base2, Base3)}\n",
    "\n",
    "#using map and zip functins to apply a function to every iterable element\n",
    "#gcode = dict(zip(map(''.join, zip(Base1, Base2, Base3)), AAs))\n",
    "\n",
    "\n"
   ],
   "outputs": [],
   "metadata": {}
  }
 ],
 "metadata": {
  "orig_nbformat": 4,
  "language_info": {
   "name": "python",
   "version": "3.9.6",
   "mimetype": "text/x-python",
   "codemirror_mode": {
    "name": "ipython",
    "version": 3
   },
   "pygments_lexer": "ipython3",
   "nbconvert_exporter": "python",
   "file_extension": ".py"
  },
  "kernelspec": {
   "name": "python3",
   "display_name": "Python 3.9.6 64-bit ('bio-355-env': conda)"
  },
  "interpreter": {
   "hash": "7dc8fcfcc2ea9d73dc219e193979e59a0d0e18a35d691a1babbdc9f470111333"
  }
 },
 "nbformat": 4,
 "nbformat_minor": 2
}