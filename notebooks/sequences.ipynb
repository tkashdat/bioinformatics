{
 "cells": [
  {
   "cell_type": "markdown",
   "source": [
    "This program demonstrates the use of python code to compare genetic sequences and determine similarity"
   ],
   "metadata": {}
  },
  {
   "cell_type": "code",
   "execution_count": 1,
   "source": [
    "human = 'MNSFSTSAFGPVAFSLGLLLVLPAAFPAPVPPGEDSKDVAAPHR'\n",
    "chimp = 'MNSVSTSAFGPVAFSLGLLLVLPAAFPAPVPPGEDSKDVAAPHR'\n",
    "monkey = 'MNSVSTSAFGPVAFSLGLLLVLPAAFPAPVLPGEDSKDVAAPHS'\n",
    "pig = 'MNSLSTSAFSPVAFSLGLLLVMATAFPTPGRLEEDAKGDATSDK'\n",
    "mouse = 'MKFLSARDFHPVAFLGLMLVTTTAFPTSQVRRGDFTEDTTPNRP'\n",
    "rat = 'MKFLSARDFQPVAFLGLMLLTATAFPTSQVRRGDFTEDTTHNRP'\n",
    "chicken = 'MNFTEGCEATGRRPGSAGSRRRRAPRPGPVALLPLLLPLLLPPA'"
   ],
   "outputs": [],
   "metadata": {}
  },
  {
   "cell_type": "code",
   "execution_count": 2,
   "source": [
    "# calulcate total number of sites\n",
    "total = len(human)\n",
    "total"
   ],
   "outputs": [
    {
     "output_type": "execute_result",
     "data": {
      "text/plain": [
       "44"
      ]
     },
     "metadata": {},
     "execution_count": 2
    }
   ],
   "metadata": {}
  },
  {
   "cell_type": "code",
   "execution_count": 3,
   "source": [
    "#find number of similar sites between two sequences and store in variable same\n",
    "same = 0\n",
    "for i in range(total):\n",
    "    if human[i] == chimp[i]:\n",
    "        same += 1\n",
    "same"
   ],
   "outputs": [
    {
     "output_type": "execute_result",
     "data": {
      "text/plain": [
       "43"
      ]
     },
     "metadata": {},
     "execution_count": 3
    }
   ],
   "metadata": {}
  },
  {
   "cell_type": "code",
   "execution_count": 4,
   "source": [
    "# calculate percentage\n",
    "similar = same / total\n",
    "similar"
   ],
   "outputs": [
    {
     "output_type": "execute_result",
     "data": {
      "text/plain": [
       "0.9772727272727273"
      ]
     },
     "metadata": {},
     "execution_count": 4
    }
   ],
   "metadata": {}
  },
  {
   "cell_type": "code",
   "execution_count": 5,
   "source": [
    "# can make a custom function in order to achieve this so we can reuse it\n",
    "# name of function is similarity and takes arguments seq1 and seq2\n",
    "#iterate through same length sequences and check if each indexed element is the same, if so increment the counter \"same\"\n",
    "# similar returns the percentage simialrities \n",
    "def similarity(seq1, seq2):\n",
    "  total = len(seq1)\n",
    "  same = 0\n",
    "  for i in range(total):\n",
    "      if seq1[i] == seq2[i]:\n",
    "  \t    same += 1\n",
    "  similar = same / total\n",
    "  return similar"
   ],
   "outputs": [],
   "metadata": {}
  },
  {
   "cell_type": "code",
   "execution_count": 6,
   "source": [
    "similarity(rat, chicken)"
   ],
   "outputs": [
    {
     "output_type": "execute_result",
     "data": {
      "text/plain": [
       "0.09090909090909091"
      ]
     },
     "metadata": {},
     "execution_count": 6
    }
   ],
   "metadata": {}
  },
  {
   "cell_type": "code",
   "execution_count": 7,
   "source": [
    "similarity(human, chimp)"
   ],
   "outputs": [
    {
     "output_type": "execute_result",
     "data": {
      "text/plain": [
       "0.9772727272727273"
      ]
     },
     "metadata": {},
     "execution_count": 7
    }
   ],
   "metadata": {}
  },
  {
   "cell_type": "code",
   "execution_count": 8,
   "source": [
    "similarity(rat, human)"
   ],
   "outputs": [
    {
     "output_type": "execute_result",
     "data": {
      "text/plain": [
       "0.29545454545454547"
      ]
     },
     "metadata": {},
     "execution_count": 8
    }
   ],
   "metadata": {}
  },
  {
   "cell_type": "code",
   "execution_count": 9,
   "source": [
    "seq1, seq2 = 'TGCAGTACGAT', 'TCCAATAC-AT'"
   ],
   "outputs": [],
   "metadata": {}
  },
  {
   "cell_type": "code",
   "execution_count": 10,
   "source": [
    "#assign intialization scores to match, mismatch, and gap\n",
    "match, mismatch, gap = 0, 0, 0"
   ],
   "outputs": [],
   "metadata": {}
  },
  {
   "cell_type": "code",
   "execution_count": 11,
   "source": [
    "for i in range(len(seq1)):          # iterate over sites in both sequences\n",
    "    base1, base2 = seq1[i], seq2[i]\n",
    "    if base1 == '-' or base2 == '-':  # check if either is gap\n",
    "        gap += 1\n",
    "    elif base1 == base2:              # check if they match\n",
    "\t    match += 1\n",
    "    else:                             # else they mismatch\n",
    "\t    mismatch += 1\n"
   ],
   "outputs": [],
   "metadata": {}
  },
  {
   "cell_type": "code",
   "execution_count": 12,
   "source": [
    "match, mismatch, gap"
   ],
   "outputs": [
    {
     "output_type": "execute_result",
     "data": {
      "text/plain": [
       "(8, 2, 1)"
      ]
     },
     "metadata": {},
     "execution_count": 12
    }
   ],
   "metadata": {}
  },
  {
   "cell_type": "code",
   "execution_count": 13,
   "source": [
    "#dictionary to take different mutations in order to score\n",
    "scoring = {'match': 1, 'mismatch': 0, 'gap': -1}"
   ],
   "outputs": [],
   "metadata": {}
  },
  {
   "cell_type": "code",
   "execution_count": 14,
   "source": [
    "#expression to calcuation score\n",
    "score = (scoring['match'] * match +\n",
    "         scoring['mismatch'] * mismatch +\n",
    "         scoring['gap'] * gap)"
   ],
   "outputs": [],
   "metadata": {}
  },
  {
   "cell_type": "code",
   "execution_count": 15,
   "source": [
    "score"
   ],
   "outputs": [
    {
     "output_type": "execute_result",
     "data": {
      "text/plain": [
       "7"
      ]
     },
     "metadata": {},
     "execution_count": 15
    }
   ],
   "metadata": {}
  },
  {
   "cell_type": "code",
   "execution_count": 16,
   "source": [
    "# the scoring plan is a parameter with default values, use a custom function to get score\n",
    "def align_score(seq1, seq2, scoring=(1, 0, -1)):\n",
    "  # count the three states\n",
    "  counts = [0, 0, 0]  # match, mismatch, gap\n",
    "  for b1, b2 in zip(seq1, seq2):  # zip function is powerful!\n",
    "    if b1 == '-' or b2 == '-':\n",
    "      counts[2] += 1\n",
    "    elif b1 == b2:\n",
    "      counts[0] += 1\n",
    "    else:\n",
    "      counts[1] += 1\n",
    "  # calculate alignment score\n",
    "  score = 0\n",
    "  for count, weight in zip(counts, scoring):\n",
    "    score += count * weight\n",
    "  # return result\n",
    "  return score\n"
   ],
   "outputs": [],
   "metadata": {}
  }
 ],
 "metadata": {
  "orig_nbformat": 4,
  "language_info": {
   "name": "python",
   "version": "3.9.6",
   "mimetype": "text/x-python",
   "codemirror_mode": {
    "name": "ipython",
    "version": 3
   },
   "pygments_lexer": "ipython3",
   "nbconvert_exporter": "python",
   "file_extension": ".py"
  },
  "kernelspec": {
   "name": "python3",
   "display_name": "Python 3.9.6 64-bit ('bio-355-env': conda)"
  },
  "interpreter": {
   "hash": "7dc8fcfcc2ea9d73dc219e193979e59a0d0e18a35d691a1babbdc9f470111333"
  }
 },
 "nbformat": 4,
 "nbformat_minor": 2
}